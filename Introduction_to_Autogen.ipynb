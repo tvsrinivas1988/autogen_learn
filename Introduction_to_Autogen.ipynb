{
 "cells": [
  {
   "cell_type": "code",
   "execution_count": 3,
   "id": "7e399d93",
   "metadata": {},
   "outputs": [],
   "source": [
    "from autogen_agentchat.agents import AssistantAgent\n",
    "from autogen_agentchat.ui import Console\n",
    "from autogen_ext.models.openai import OpenAIChatCompletionClient"
   ]
  },
  {
   "cell_type": "code",
   "execution_count": 5,
   "id": "3ce22ff1",
   "metadata": {},
   "outputs": [],
   "source": [
    "from dotenv import load_dotenv\n",
    "import os\n",
    "\n",
    "load_dotenv()\n",
    "\n",
    "os.environ[\"OPENAI_API_KEY\"] = os.getenv(\"OPENAI_API_KEY\")"
   ]
  },
  {
   "cell_type": "code",
   "execution_count": 7,
   "id": "75dc204e",
   "metadata": {},
   "outputs": [],
   "source": [
    "model_client = OpenAIChatCompletionClient(model=\"gpt-4o\"\n",
    ")\n",
    "\n",
    "agent_1 = AssistantAgent(name='my_assistant',model_client=model_client)"
   ]
  },
  {
   "cell_type": "code",
   "execution_count": 8,
   "id": "73f4907d",
   "metadata": {},
   "outputs": [
    {
     "name": "stdout",
     "output_type": "stream",
     "text": [
      "messages=[TextMessage(id='c1a061fe-2b90-4b88-ba82-275a8a058ec9', source='user', models_usage=None, metadata={}, created_at=datetime.datetime(2025, 7, 7, 19, 4, 27, 305583, tzinfo=datetime.timezone.utc), content='How is the weather in East Brunswick today?', type='TextMessage'), TextMessage(id='71f5642c-b75b-4552-a79c-3283aa6146c6', source='my_assistant', models_usage=RequestUsage(prompt_tokens=45, completion_tokens=32), metadata={}, created_at=datetime.datetime(2025, 7, 7, 19, 4, 33, 172193, tzinfo=datetime.timezone.utc), content=\"I can't access real-time data, including weather information. However, you can check the current weather for East Brunswick using a reliable weather service or app. TERMINATE\", type='TextMessage')] stop_reason=None\n"
     ]
    }
   ],
   "source": [
    "response = await agent_1.run(task=\"How is the weather in East Brunswick today?\")\n",
    "print(response)"
   ]
  },
  {
   "cell_type": "markdown",
   "id": "d442a9e2",
   "metadata": {},
   "source": [
    "messages=[TextMessage(id='c1a061fe-2b90-4b88-ba82-275a8a058ec9', source='user', models_usage=None, metadata={}, created_at=datetime.datetime(2025, 7, 7, 19, 4, 27, 305583, tzinfo=datetime.timezone.utc), content='How is the weather in East Brunswick today?', type='TextMessage'), TextMessage(id='71f5642c-b75b-4552-a79c-3283aa6146c6', source='my_assistant', models_usage=RequestUsage(prompt_tokens=45, completion_tokens=32), metadata={}, created_at=datetime.datetime(2025, 7, 7, 19, 4, 33, 172193, tzinfo=datetime.timezone.utc), content=\"I can't access real-time data, including weather information. However, you can check the current weather for East Brunswick using a reliable weather service or app. TERMINATE\", type='TextMessage')] stop_reason=None"
   ]
  },
  {
   "cell_type": "code",
   "execution_count": 9,
   "id": "2428a2f5",
   "metadata": {},
   "outputs": [
    {
     "name": "stdout",
     "output_type": "stream",
     "text": [
      "messages=[TextMessage(id='3f2b57c6-37b0-40ed-8412-d889de56f6ef', source='user', models_usage=None, metadata={}, created_at=datetime.datetime(2025, 7, 7, 19, 6, 12, 916653, tzinfo=datetime.timezone.utc), content='Do you remember my last question?', type='TextMessage'), TextMessage(id='981149ab-cd7f-4833-9c6e-eff3a5840763', source='my_assistant', models_usage=RequestUsage(prompt_tokens=93, completion_tokens=14), metadata={}, created_at=datetime.datetime(2025, 7, 7, 19, 6, 13, 917776, tzinfo=datetime.timezone.utc), content='Yes, you asked about the weather in East Brunswick today. TERMINATE', type='TextMessage')] stop_reason=None\n"
     ]
    }
   ],
   "source": [
    "response = await agent_1.run(task=\"Do you remember my last question?\")\n",
    "print(response)"
   ]
  },
  {
   "cell_type": "markdown",
   "id": "0a3cf748",
   "metadata": {},
   "source": [
    "messages=[TextMessage(id='3f2b57c6-37b0-40ed-8412-d889de56f6ef', source='user', models_usage=None, metadata={}, created_at=datetime.datetime(2025, 7, 7, 19, 6, 12, 916653, tzinfo=datetime.timezone.utc), content='Do you remember my last question?', type='TextMessage'), TextMessage(id='981149ab-cd7f-4833-9c6e-eff3a5840763', source='my_assistant', models_usage=RequestUsage(prompt_tokens=93, completion_tokens=14), metadata={}, created_at=datetime.datetime(2025, 7, 7, 19, 6, 13, 917776, tzinfo=datetime.timezone.utc), content='Yes, you asked about the weather in East Brunswick today. TERMINATE', type='TextMessage')] stop_reason=None"
   ]
  },
  {
   "cell_type": "code",
   "execution_count": 1,
   "id": "ddc8e8f8",
   "metadata": {},
   "outputs": [],
   "source": [
    "from autogen_agentchat.agents import AssistantAgent\n",
    "from autogen_ext.models.openai import OpenAIChatCompletionClient\n",
    "from dotenv import load_dotenv\n",
    "import os"
   ]
  },
  {
   "cell_type": "code",
   "execution_count": 3,
   "id": "16ed7546",
   "metadata": {},
   "outputs": [],
   "source": [
    "load_dotenv()\n",
    "os.environ[\"OPENROUTER_API_KEY\"] = os.getenv(\"OPENROUTER_API_KEY\")"
   ]
  },
  {
   "cell_type": "code",
   "execution_count": 8,
   "id": "ca74f1cb",
   "metadata": {},
   "outputs": [],
   "source": [
    "model_client = OpenAIChatCompletionClient(model=\"deepseek/deepseek-chat-v3-0324:free\",\n",
    "                                          base_url=\"https://openrouter.ai/api/v1\",\n",
    "                                          api_key=os.getenv(\"OPENROUTER_API_KEY\"),\n",
    "                                          model_info={\n",
    "        \"family\":'deepseek',\n",
    "        \"vision\" :True,\n",
    "        \"function_calling\":True,\n",
    "        \"json_output\": False,\n",
    "        \"structured_output\": False\n",
    "    }\n",
    ")"
   ]
  },
  {
   "cell_type": "code",
   "execution_count": 9,
   "id": "b0d85654",
   "metadata": {},
   "outputs": [],
   "source": [
    "my_assistant = AssistantAgent(name=\"my_assistant\", model_client=model_client)"
   ]
  },
  {
   "cell_type": "code",
   "execution_count": 10,
   "id": "f50d23a2",
   "metadata": {},
   "outputs": [],
   "source": [
    " result = await my_assistant.run(task=\"Which football club is based out of East Yorkshire in England\")"
   ]
  },
  {
   "cell_type": "code",
   "execution_count": 14,
   "id": "43cb71b7",
   "metadata": {},
   "outputs": [
    {
     "data": {
      "text/plain": [
       "TaskResult(messages=[TextMessage(id='aca731c5-13aa-4c97-810d-35a58c1097b6', source='user', models_usage=None, metadata={}, created_at=datetime.datetime(2025, 7, 10, 23, 24, 55, 84350, tzinfo=datetime.timezone.utc), content='Which football club is based out of East Yorkshire in England', type='TextMessage'), TextMessage(id='5d562536-73ec-4b3a-b6be-bbc8f65f10b9', source='my_assistant', models_usage=RequestUsage(prompt_tokens=41, completion_tokens=38), metadata={}, created_at=datetime.datetime(2025, 7, 10, 23, 25, 0, 386626, tzinfo=datetime.timezone.utc), content='The football club based out of East Yorkshire, England, is Hull City AFC (Association Football Club). They play their home matches at the MKM Stadium in Hull. \\n\\nTERMINATE', type='TextMessage')], stop_reason=None)"
      ]
     },
     "execution_count": 14,
     "metadata": {},
     "output_type": "execute_result"
    }
   ],
   "source": [
    "result"
   ]
  },
  {
   "cell_type": "markdown",
   "id": "7e0fba0c",
   "metadata": {},
   "source": [
    "TaskResult(messages=[TextMessage(id='aca731c5-13aa-4c97-810d-35a58c1097b6', source='user', models_usage=None, metadata={}, created_at=datetime.datetime(2025, 7, 10, 23, 24, 55, 84350, tzinfo=datetime.timezone.utc), content='Which football club is based out of East Yorkshire in England', type='TextMessage'), TextMessage(id='5d562536-73ec-4b3a-b6be-bbc8f65f10b9', source='my_assistant', models_usage=RequestUsage(prompt_tokens=41, completion_tokens=38), metadata={}, created_at=datetime.datetime(2025, 7, 10, 23, 25, 0, 386626, tzinfo=datetime.timezone.utc), content='The football club based out of East Yorkshire, England, is Hull City AFC (Association Football Club). They play their home matches at the MKM Stadium in Hull. \\n\\nTERMINATE', type='TextMessage')], stop_reason=None)"
   ]
  },
  {
   "cell_type": "code",
   "execution_count": null,
   "id": "c9152322",
   "metadata": {},
   "outputs": [],
   "source": []
  },
  {
   "cell_type": "code",
   "execution_count": null,
   "id": "6b1ffe87",
   "metadata": {},
   "outputs": [],
   "source": []
  },
  {
   "cell_type": "code",
   "execution_count": null,
   "id": "685e7d56",
   "metadata": {},
   "outputs": [],
   "source": []
  },
  {
   "cell_type": "code",
   "execution_count": null,
   "id": "27de1eb0",
   "metadata": {},
   "outputs": [],
   "source": []
  },
  {
   "cell_type": "code",
   "execution_count": null,
   "id": "b0406ee3",
   "metadata": {},
   "outputs": [],
   "source": []
  },
  {
   "cell_type": "code",
   "execution_count": null,
   "id": "b70a9329",
   "metadata": {},
   "outputs": [],
   "source": []
  },
  {
   "cell_type": "code",
   "execution_count": null,
   "id": "62f6958a",
   "metadata": {},
   "outputs": [],
   "source": []
  },
  {
   "cell_type": "code",
   "execution_count": null,
   "id": "d54f3c68",
   "metadata": {},
   "outputs": [],
   "source": []
  },
  {
   "cell_type": "code",
   "execution_count": null,
   "id": "849532fa",
   "metadata": {},
   "outputs": [],
   "source": []
  },
  {
   "cell_type": "code",
   "execution_count": null,
   "id": "421acfb4",
   "metadata": {},
   "outputs": [],
   "source": []
  },
  {
   "cell_type": "code",
   "execution_count": null,
   "id": "7c79420d",
   "metadata": {},
   "outputs": [],
   "source": []
  },
  {
   "cell_type": "code",
   "execution_count": null,
   "id": "96a1749a",
   "metadata": {},
   "outputs": [],
   "source": []
  },
  {
   "cell_type": "code",
   "execution_count": null,
   "id": "1b98601e",
   "metadata": {},
   "outputs": [],
   "source": []
  },
  {
   "cell_type": "code",
   "execution_count": null,
   "id": "d7713ad7",
   "metadata": {},
   "outputs": [],
   "source": []
  },
  {
   "cell_type": "code",
   "execution_count": null,
   "id": "acdc23d8",
   "metadata": {},
   "outputs": [],
   "source": []
  },
  {
   "cell_type": "code",
   "execution_count": null,
   "id": "a0e6808b",
   "metadata": {},
   "outputs": [],
   "source": []
  }
 ],
 "metadata": {
  "kernelspec": {
   "display_name": "Python 3",
   "language": "python",
   "name": "python3"
  },
  "language_info": {
   "codemirror_mode": {
    "name": "ipython",
    "version": 3
   },
   "file_extension": ".py",
   "mimetype": "text/x-python",
   "name": "python",
   "nbconvert_exporter": "python",
   "pygments_lexer": "ipython3",
   "version": "3.12.0"
  }
 },
 "nbformat": 4,
 "nbformat_minor": 5
}
